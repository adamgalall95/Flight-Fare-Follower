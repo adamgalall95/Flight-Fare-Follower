{
 "cells": [
  {
   "cell_type": "code",
   "execution_count": 8,
   "metadata": {},
   "outputs": [
    {
     "name": "stdout",
     "output_type": "stream",
     "text": [
      "None None\n"
     ]
    }
   ],
   "source": [
    "import requests\n",
    "import os\n",
    "\n",
    "\n",
    "# Get Access Token First \n",
    "API_KEY = os.environ.get(\"API_KEY\")\n",
    "API_SECRET_KEY = os.environ.get(\"API_SECRET_KEY\")\n",
    "# Call from environment (.env file)\n",
    "print(API_KEY, API_SECRET_KEY)"
   ]
  },
  {
   "cell_type": "code",
   "execution_count": 3,
   "metadata": {},
   "outputs": [
    {
     "ename": "KeyError",
     "evalue": "'access_token'",
     "output_type": "error",
     "traceback": [
      "\u001b[0;31m---------------------------------------------------------------------------\u001b[0m",
      "\u001b[0;31mKeyError\u001b[0m                                  Traceback (most recent call last)",
      "Cell \u001b[0;32mIn[3], line 7\u001b[0m\n\u001b[1;32m      3\u001b[0m params \u001b[38;5;241m=\u001b[39m {\u001b[38;5;124m\"\u001b[39m\u001b[38;5;124mgrant_type\u001b[39m\u001b[38;5;124m\"\u001b[39m: \u001b[38;5;124m\"\u001b[39m\u001b[38;5;124mclient_credentials\u001b[39m\u001b[38;5;124m\"\u001b[39m, \n\u001b[1;32m      4\u001b[0m           \u001b[38;5;124m\"\u001b[39m\u001b[38;5;124mclient_id\u001b[39m\u001b[38;5;124m\"\u001b[39m: API_KEY, \n\u001b[1;32m      5\u001b[0m           \u001b[38;5;124m\"\u001b[39m\u001b[38;5;124mclient_secret\u001b[39m\u001b[38;5;124m\"\u001b[39m: API_SECRET_KEY}\n\u001b[1;32m      6\u001b[0m response \u001b[38;5;241m=\u001b[39m requests\u001b[38;5;241m.\u001b[39mpost(url, data\u001b[38;5;241m=\u001b[39mparams, headers\u001b[38;5;241m=\u001b[39mheaders)\n\u001b[0;32m----> 7\u001b[0m access_token \u001b[38;5;241m=\u001b[39m \u001b[43mresponse\u001b[49m\u001b[38;5;241;43m.\u001b[39;49m\u001b[43mjson\u001b[49m\u001b[43m(\u001b[49m\u001b[43m)\u001b[49m\u001b[43m[\u001b[49m\u001b[38;5;124;43m'\u001b[39;49m\u001b[38;5;124;43maccess_token\u001b[39;49m\u001b[38;5;124;43m'\u001b[39;49m\u001b[43m]\u001b[49m\n",
      "\u001b[0;31mKeyError\u001b[0m: 'access_token'"
     ]
    }
   ],
   "source": [
    "url = 'https://test.api.amadeus.com/v1/security/oauth2/token'\n",
    "headers = {\"Content-Type\": \"application/x-www-form-urlencoded\"}\n",
    "params = {\"grant_type\": \"client_credentials\", \n",
    "          \"client_id\": API_KEY, \n",
    "          \"client_secret\": API_SECRET_KEY}\n",
    "response = requests.post(url, data=params, headers=headers)\n",
    "access_token = response.json()['access_token']"
   ]
  },
  {
   "cell_type": "code",
   "execution_count": 67,
   "metadata": {},
   "outputs": [],
   "source": [
    "base_url = \"https://test.api.amadeus.com/v1/shopping/flight-dates\"\n",
    "headers = {'Authorization': f'Bearer {access_token}'}\n",
    "params = {\n",
    "    \"origin\": \"SYD\", \n",
    "    \"destination\": \"LAX\", \n",
    "    \"departureDate\": \"2024-01-13,2024-07-01\", \n",
    "    \"duration\": 10, \n",
    "    \"oneWay\": False, \n",
    "    \"viewBy\": \"DATE\", \n",
    "    # \"nonStop\": True\n",
    "}\n",
    "response = requests.get(base_url, params=params, headers=headers)\n",
    "round_way_trips = response.json()['data']"
   ]
  },
  {
   "cell_type": "code",
   "execution_count": 68,
   "metadata": {},
   "outputs": [
    {
     "data": {
      "text/plain": [
       "[{'type': 'flight-date',\n",
       "  'origin': 'SYD',\n",
       "  'destination': 'LAX',\n",
       "  'departureDate': '2024-03-13',\n",
       "  'returnDate': '2024-03-23',\n",
       "  'price': {'total': '1022.76'},\n",
       "  'links': {'flightDestinations': 'https://test.api.amadeus.com/v1/shopping/flight-destinations?origin=SYD&departureDate=2024-01-13,2024-07-01&oneWay=false&duration=10&nonStop=false&viewBy=DATE',\n",
       "   'flightOffers': 'https://test.api.amadeus.com/v2/shopping/flight-offers?originLocationCode=SYD&destinationLocationCode=LAX&departureDate=2024-03-13&returnDate=2024-03-23&adults=1&nonStop=false'}}]"
      ]
     },
     "execution_count": 68,
     "metadata": {},
     "output_type": "execute_result"
    }
   ],
   "source": [
    "[entry for entry in round_way_trips if entry['departureDate'] == '2024-03-13']"
   ]
  },
  {
   "cell_type": "code",
   "execution_count": 61,
   "metadata": {},
   "outputs": [],
   "source": [
    "params = {\n",
    "    \"origin\": \"SYD\", \n",
    "    \"destination\": \"LAX\", \n",
    "    \"departureDate\": \"2024-01-13,2024-07-01\", \n",
    "    \"oneWay\": True, \n",
    "    \"viewBy\": \"DATE\", \n",
    "    \"nonStop\": True\n",
    "}\n",
    "response = requests.get(base_url, params=params, headers=headers)\n",
    "one_way_trips = response.json()['data']"
   ]
  },
  {
   "cell_type": "code",
   "execution_count": 66,
   "metadata": {},
   "outputs": [
    {
     "data": {
      "text/plain": [
       "[{'type': 'flight-date',\n",
       "  'origin': 'SYD',\n",
       "  'destination': 'LAX',\n",
       "  'departureDate': '2024-03-13',\n",
       "  'price': {'total': '1356.38'},\n",
       "  'links': {'flightDestinations': 'https://test.api.amadeus.com/v1/shopping/flight-destinations?origin=SYD&departureDate=2024-01-13,2024-07-01&oneWay=true&nonStop=true&viewBy=DATE',\n",
       "   'flightOffers': 'https://test.api.amadeus.com/v2/shopping/flight-offers?originLocationCode=SYD&destinationLocationCode=LAX&departureDate=2024-03-13&adults=1&nonStop=true'}}]"
      ]
     },
     "execution_count": 66,
     "metadata": {},
     "output_type": "execute_result"
    }
   ],
   "source": [
    "[entry for entry in one_way_trips if entry['departureDate'] == '2024-03-13']"
   ]
  },
  {
   "cell_type": "code",
   "execution_count": null,
   "metadata": {},
   "outputs": [],
   "source": []
  }
 ],
 "metadata": {
  "kernelspec": {
   "display_name": "py-etl",
   "language": "python",
   "name": "python3"
  },
  "language_info": {
   "codemirror_mode": {
    "name": "ipython",
    "version": 3
   },
   "file_extension": ".py",
   "mimetype": "text/x-python",
   "name": "python",
   "nbconvert_exporter": "python",
   "pygments_lexer": "ipython3",
   "version": "3.9.18"
  }
 },
 "nbformat": 4,
 "nbformat_minor": 2
}
