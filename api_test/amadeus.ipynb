{
 "cells": [
  {
   "cell_type": "code",
   "execution_count": 1,
   "metadata": {},
   "outputs": [],
   "source": [
    "import requests\n",
    "\n",
    "\n",
    "# Get Access Token First \n",
    "# Call from environment (.env file)"
   ]
  },
  {
   "cell_type": "code",
   "execution_count": 56,
   "metadata": {},
   "outputs": [],
   "source": [
    "url = 'https://test.api.amadeus.com/v1/security/oauth2/token'\n",
    "headers = {\"Content-Type\": \"application/x-www-form-urlencoded\"}\n",
    "params = {\"grant_type\": \"client_credentials\", \n",
    "          \"client_id\": API_KEY, \n",
    "          \"client_secret\": API_SECRET_KEY}\n",
    "response = requests.post(url, data=params, headers=headers)\n",
    "access_token = response.json()['access_token']"
   ]
  },
  {
   "cell_type": "code",
   "execution_count": 67,
   "metadata": {},
   "outputs": [],
   "source": [
    "base_url = \"https://test.api.amadeus.com/v1/shopping/flight-dates\"\n",
    "headers = {'Authorization': f'Bearer {access_token}'}\n",
    "params = {\n",
    "    \"origin\": \"SYD\", \n",
    "    \"destination\": \"LAX\", \n",
    "    \"departureDate\": \"2024-01-13,2024-07-01\", \n",
    "    \"duration\": 10, \n",
    "    \"oneWay\": False, \n",
    "    \"viewBy\": \"DATE\", \n",
    "    # \"nonStop\": True\n",
    "}\n",
    "response = requests.get(base_url, params=params, headers=headers)\n",
    "round_way_trips = response.json()['data']"
   ]
  },
  {
   "cell_type": "code",
   "execution_count": 68,
   "metadata": {},
   "outputs": [
    {
     "data": {
      "text/plain": [
       "[{'type': 'flight-date',\n",
       "  'origin': 'SYD',\n",
       "  'destination': 'LAX',\n",
       "  'departureDate': '2024-03-13',\n",
       "  'returnDate': '2024-03-23',\n",
       "  'price': {'total': '1022.76'},\n",
       "  'links': {'flightDestinations': 'https://test.api.amadeus.com/v1/shopping/flight-destinations?origin=SYD&departureDate=2024-01-13,2024-07-01&oneWay=false&duration=10&nonStop=false&viewBy=DATE',\n",
       "   'flightOffers': 'https://test.api.amadeus.com/v2/shopping/flight-offers?originLocationCode=SYD&destinationLocationCode=LAX&departureDate=2024-03-13&returnDate=2024-03-23&adults=1&nonStop=false'}}]"
      ]
     },
     "execution_count": 68,
     "metadata": {},
     "output_type": "execute_result"
    }
   ],
   "source": [
    "[entry for entry in round_way_trips if entry['departureDate'] == '2024-03-13']"
   ]
  },
  {
   "cell_type": "code",
   "execution_count": 61,
   "metadata": {},
   "outputs": [],
   "source": [
    "params = {\n",
    "    \"origin\": \"SYD\", \n",
    "    \"destination\": \"LAX\", \n",
    "    \"departureDate\": \"2024-01-13,2024-07-01\", \n",
    "    \"oneWay\": True, \n",
    "    \"viewBy\": \"DATE\", \n",
    "    \"nonStop\": True\n",
    "}\n",
    "response = requests.get(base_url, params=params, headers=headers)\n",
    "one_way_trips = response.json()['data']"
   ]
  },
  {
   "cell_type": "code",
   "execution_count": 66,
   "metadata": {},
   "outputs": [
    {
     "data": {
      "text/plain": [
       "[{'type': 'flight-date',\n",
       "  'origin': 'SYD',\n",
       "  'destination': 'LAX',\n",
       "  'departureDate': '2024-03-13',\n",
       "  'price': {'total': '1356.38'},\n",
       "  'links': {'flightDestinations': 'https://test.api.amadeus.com/v1/shopping/flight-destinations?origin=SYD&departureDate=2024-01-13,2024-07-01&oneWay=true&nonStop=true&viewBy=DATE',\n",
       "   'flightOffers': 'https://test.api.amadeus.com/v2/shopping/flight-offers?originLocationCode=SYD&destinationLocationCode=LAX&departureDate=2024-03-13&adults=1&nonStop=true'}}]"
      ]
     },
     "execution_count": 66,
     "metadata": {},
     "output_type": "execute_result"
    }
   ],
   "source": [
    "[entry for entry in one_way_trips if entry['departureDate'] == '2024-03-13']"
   ]
  },
  {
   "cell_type": "code",
   "execution_count": null,
   "metadata": {},
   "outputs": [],
   "source": []
  }
 ],
 "metadata": {
  "kernelspec": {
   "display_name": "py-etl",
   "language": "python",
   "name": "python3"
  },
  "language_info": {
   "codemirror_mode": {
    "name": "ipython",
    "version": 3
   },
   "file_extension": ".py",
   "mimetype": "text/x-python",
   "name": "python",
   "nbconvert_exporter": "python",
   "pygments_lexer": "ipython3",
   "version": "3.9.18"
  }
 },
 "nbformat": 4,
 "nbformat_minor": 2
}
