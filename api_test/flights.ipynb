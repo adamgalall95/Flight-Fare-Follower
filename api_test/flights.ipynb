{
 "cells": [
  {
   "cell_type": "code",
   "execution_count": 1,
   "metadata": {},
   "outputs": [
    {
     "ename": "ModuleNotFoundError",
     "evalue": "No module named 'requests'",
     "output_type": "error",
     "traceback": [
      "\u001b[1;31m---------------------------------------------------------------------------\u001b[0m",
      "\u001b[1;31mModuleNotFoundError\u001b[0m                       Traceback (most recent call last)",
      "Cell \u001b[1;32mIn[1], line 1\u001b[0m\n\u001b[1;32m----> 1\u001b[0m \u001b[38;5;28;01mimport\u001b[39;00m \u001b[38;5;21;01mrequests\u001b[39;00m\n\u001b[0;32m      2\u001b[0m \u001b[38;5;28;01mimport\u001b[39;00m \u001b[38;5;21;01mpandas\u001b[39;00m \u001b[38;5;28;01mas\u001b[39;00m \u001b[38;5;21;01mpd\u001b[39;00m\n\u001b[0;32m      4\u001b[0m \u001b[38;5;66;03m#to read the environment variables from .env\u001b[39;00m\n",
      "\u001b[1;31mModuleNotFoundError\u001b[0m: No module named 'requests'"
     ]
    }
   ],
   "source": [
    "import requests\n",
    "import pandas as pd\n",
    "\n",
    "#to read the environment variables from .env\n",
    "import os\n",
    "from dotenv import load_dotenv\n",
    "load_dotenv()\n",
    "API_KEY = os.environ.get(\"API_KEY\")\n",
    "API_SECRET_KEY = os.environ.get(\"API_SECRET_KEY\")\n"
   ]
  },
  {
   "cell_type": "code",
   "execution_count": 39,
   "metadata": {},
   "outputs": [],
   "source": [
    "url = 'https://test.api.amadeus.com/v1/security/oauth2/token'\n",
    "headers = {\"Content-Type\": \"application/x-www-form-urlencoded\"}\n",
    "params = {\"grant_type\": \"client_credentials\", \n",
    "          \"client_id\": API_KEY, \n",
    "          \"client_secret\": API_SECRET_KEY}\n",
    "response = requests.post(url, data=params, headers=headers)\n",
    "access_token = response.json()['access_token']"
   ]
  },
  {
   "cell_type": "code",
   "execution_count": 51,
   "metadata": {},
   "outputs": [],
   "source": [
    "#Response for the return flight\n",
    "base_url = \"https://test.api.amadeus.com/v1/shopping/flight-dates\"\n",
    "headers = {'Authorization': f'Bearer {access_token}'}\n",
    "params = {\n",
    "    \"origin\": \"SYD\", \n",
    "    \"destination\": \"LAX\", \n",
    "    \"departureDate\": \"2024-02-01,2024-07-01\", \n",
    "    \"duration\": 12, \n",
    "    \"oneWay\": False, \n",
    "    \"viewBy\": \"DATE\", \n",
    "    # \"nonStop\": True\n",
    "}\n",
    "response = requests.get(base_url, params=params, headers=headers)\n",
    "round_way_trips = response.json()['data']"
   ]
  },
  {
   "cell_type": "code",
   "execution_count": 58,
   "metadata": {},
   "outputs": [],
   "source": [
    "# List to store the results for different durations\n",
    "return_flight_results = []\n",
    "\n",
    "# Iterate over durations (9 to 15 days)\n",
    "for duration in range(9, 15):\n",
    "    params = {\n",
    "        \"origin\": \"SYD\",\n",
    "        \"destination\": \"LAX\",\n",
    "        \"departureDate\": \"2024-02-01,2024-07-01\",\n",
    "        \"duration\": duration,\n",
    "        \"oneWay\": False,\n",
    "        \"viewBy\": \"DATE\",\n",
    "        # \"nonStop\": True\n",
    "    }\n",
    "\n",
    "    # Make the API request\n",
    "    response = requests.get(base_url, params=params, headers=headers)\n",
    "\n",
    "    # Extract relevant information and append to the results list\n",
    "    round_way_trips = response.json()['data']\n",
    "    return_results_for_duration = [\n",
    "        (duration, entry['origin'], entry['destination'], entry['departureDate'], entry['price']['total'])\n",
    "        for entry in round_way_trips\n",
    "    ]\n",
    "\n",
    "    # Append the results to the main list\n",
    "    return_flight_results.append(return_results_for_duration)\n",
    "\n",
    "#return_flight_results shows a list of lists of flights for each duration from 9 days to 15 days\n",
    "#return_flight_results"
   ]
  },
  {
   "cell_type": "code",
   "execution_count": 60,
   "metadata": {},
   "outputs": [],
   "source": [
    "flat_list = [item for sublist in return_flight_results for item in sublist]\n",
    "\n",
    "# Create a Pandas DataFrame\n",
    "columns = ['duration','origin', 'destination', 'departureDate', 'totalPrice']\n",
    "df = pd.DataFrame(flat_list, columns=columns)"
   ]
  },
  {
   "cell_type": "code",
   "execution_count": 61,
   "metadata": {},
   "outputs": [
    {
     "data": {
      "text/html": [
       "<div>\n",
       "<style scoped>\n",
       "    .dataframe tbody tr th:only-of-type {\n",
       "        vertical-align: middle;\n",
       "    }\n",
       "\n",
       "    .dataframe tbody tr th {\n",
       "        vertical-align: top;\n",
       "    }\n",
       "\n",
       "    .dataframe thead th {\n",
       "        text-align: right;\n",
       "    }\n",
       "</style>\n",
       "<table border=\"1\" class=\"dataframe\">\n",
       "  <thead>\n",
       "    <tr style=\"text-align: right;\">\n",
       "      <th></th>\n",
       "      <th>duration</th>\n",
       "      <th>origin</th>\n",
       "      <th>destination</th>\n",
       "      <th>departureDate</th>\n",
       "      <th>totalPrice</th>\n",
       "    </tr>\n",
       "  </thead>\n",
       "  <tbody>\n",
       "    <tr>\n",
       "      <th>0</th>\n",
       "      <td>9</td>\n",
       "      <td>SYD</td>\n",
       "      <td>LAX</td>\n",
       "      <td>2024-02-16</td>\n",
       "      <td>1014.86</td>\n",
       "    </tr>\n",
       "    <tr>\n",
       "      <th>1</th>\n",
       "      <td>9</td>\n",
       "      <td>SYD</td>\n",
       "      <td>LAX</td>\n",
       "      <td>2024-02-13</td>\n",
       "      <td>1014.86</td>\n",
       "    </tr>\n",
       "    <tr>\n",
       "      <th>2</th>\n",
       "      <td>9</td>\n",
       "      <td>SYD</td>\n",
       "      <td>LAX</td>\n",
       "      <td>2024-02-18</td>\n",
       "      <td>1014.86</td>\n",
       "    </tr>\n",
       "    <tr>\n",
       "      <th>3</th>\n",
       "      <td>9</td>\n",
       "      <td>SYD</td>\n",
       "      <td>LAX</td>\n",
       "      <td>2024-04-27</td>\n",
       "      <td>1022.76</td>\n",
       "    </tr>\n",
       "    <tr>\n",
       "      <th>4</th>\n",
       "      <td>9</td>\n",
       "      <td>SYD</td>\n",
       "      <td>LAX</td>\n",
       "      <td>2024-05-03</td>\n",
       "      <td>1022.76</td>\n",
       "    </tr>\n",
       "    <tr>\n",
       "      <th>...</th>\n",
       "      <td>...</td>\n",
       "      <td>...</td>\n",
       "      <td>...</td>\n",
       "      <td>...</td>\n",
       "      <td>...</td>\n",
       "    </tr>\n",
       "    <tr>\n",
       "      <th>907</th>\n",
       "      <td>14</td>\n",
       "      <td>SYD</td>\n",
       "      <td>LAX</td>\n",
       "      <td>2024-04-07</td>\n",
       "      <td>1603.93</td>\n",
       "    </tr>\n",
       "    <tr>\n",
       "      <th>908</th>\n",
       "      <td>14</td>\n",
       "      <td>SYD</td>\n",
       "      <td>LAX</td>\n",
       "      <td>2024-04-13</td>\n",
       "      <td>1633.46</td>\n",
       "    </tr>\n",
       "    <tr>\n",
       "      <th>909</th>\n",
       "      <td>14</td>\n",
       "      <td>SYD</td>\n",
       "      <td>ONT</td>\n",
       "      <td>2024-07-01</td>\n",
       "      <td>2131.80</td>\n",
       "    </tr>\n",
       "    <tr>\n",
       "      <th>910</th>\n",
       "      <td>14</td>\n",
       "      <td>SYD</td>\n",
       "      <td>LAX</td>\n",
       "      <td>2024-06-30</td>\n",
       "      <td>2131.80</td>\n",
       "    </tr>\n",
       "    <tr>\n",
       "      <th>911</th>\n",
       "      <td>14</td>\n",
       "      <td>SYD</td>\n",
       "      <td>LAX</td>\n",
       "      <td>2024-06-29</td>\n",
       "      <td>2206.76</td>\n",
       "    </tr>\n",
       "  </tbody>\n",
       "</table>\n",
       "<p>912 rows × 5 columns</p>\n",
       "</div>"
      ],
      "text/plain": [
       "     duration origin destination departureDate totalPrice\n",
       "0           9    SYD         LAX    2024-02-16    1014.86\n",
       "1           9    SYD         LAX    2024-02-13    1014.86\n",
       "2           9    SYD         LAX    2024-02-18    1014.86\n",
       "3           9    SYD         LAX    2024-04-27    1022.76\n",
       "4           9    SYD         LAX    2024-05-03    1022.76\n",
       "..        ...    ...         ...           ...        ...\n",
       "907        14    SYD         LAX    2024-04-07    1603.93\n",
       "908        14    SYD         LAX    2024-04-13    1633.46\n",
       "909        14    SYD         ONT    2024-07-01    2131.80\n",
       "910        14    SYD         LAX    2024-06-30    2131.80\n",
       "911        14    SYD         LAX    2024-06-29    2206.76\n",
       "\n",
       "[912 rows x 5 columns]"
      ]
     },
     "execution_count": 61,
     "metadata": {},
     "output_type": "execute_result"
    }
   ],
   "source": [
    "df"
   ]
  },
  {
   "cell_type": "code",
   "execution_count": 63,
   "metadata": {},
   "outputs": [
    {
     "ename": "SyntaxError",
     "evalue": "invalid syntax (872008144.py, line 1)",
     "output_type": "error",
     "traceback": [
      "\u001b[0;36m  Cell \u001b[0;32mIn[63], line 1\u001b[0;36m\u001b[0m\n\u001b[0;31m    Next steps are putting controls in place to make sure all origin in SYD and all destinations are LAX not ORD...\u001b[0m\n\u001b[0m         ^\u001b[0m\n\u001b[0;31mSyntaxError\u001b[0m\u001b[0;31m:\u001b[0m invalid syntax\n"
     ]
    }
   ],
   "source": [
    "1.\n",
    "Next steps are putting controls in place to make sure all origin \n",
    "in SYD and all destinations are LAX not ORD...\n",
    "2. \n",
    "Maybe try and see what other flights from Sydney to another location\n",
    "outside of US exists as a control variable"
   ]
  },
  {
   "cell_type": "code",
   "execution_count": null,
   "metadata": {},
   "outputs": [],
   "source": []
  }
 ],
 "metadata": {
  "kernelspec": {
   "display_name": "py-etl",
   "language": "python",
   "name": "python3"
  },
  "language_info": {
   "codemirror_mode": {
    "name": "ipython",
    "version": 3
   },
   "file_extension": ".py",
   "mimetype": "text/x-python",
   "name": "python",
   "nbconvert_exporter": "python",
   "pygments_lexer": "ipython3",
   "version": "3.9.18"
  }
 },
 "nbformat": 4,
 "nbformat_minor": 2
}
